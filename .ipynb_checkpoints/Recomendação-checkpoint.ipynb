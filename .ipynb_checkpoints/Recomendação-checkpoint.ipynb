{
 "cells": [
  {
   "cell_type": "code",
   "execution_count": 159,
   "id": "70567d9e",
   "metadata": {},
   "outputs": [],
   "source": [
    "import pandas as pd\n",
    "import numpy as np\n",
    "import matplotlib "
   ]
  },
  {
   "cell_type": "code",
   "execution_count": 264,
   "id": "013dfcc5",
   "metadata": {},
   "outputs": [],
   "source": [
    "global notas\n",
    "filmes = pd.read_csv(\"./dataset/movie.csv\")\n",
    "filmes.columns = [\"idF\",\"nome\",\"generos\"]\n",
    "notas = pd.read_csv(\"./dataset/rating.csv\")\n",
    "notas.columns = [\"idU\",\"idF\",\"nota\",\"data\"]\n",
    "nUsuarios = notas.groupby(\"idU\").count()\n",
    "nUsuarios = len(nUsuarios)"
   ]
  },
  {
   "cell_type": "markdown",
   "id": "babf4f9f",
   "metadata": {},
   "source": [
    "Primeira Heuristica:\n",
    "considerando que não conhecemos nada do usuario, simplesmente recomendaria os 5 filmes mais avaliados.\n",
    "\n",
    "Quantidade de Avaliações não necessariamente quer dizer um filme excelente..."
   ]
  },
  {
   "cell_type": "code",
   "execution_count": 182,
   "id": "f40f3314",
   "metadata": {},
   "outputs": [],
   "source": [
    "qtdAvaliacoes = notas.groupby(\"idF\").count()\n",
    "qtdAvaliacoes.columns = [\"qtdAvaliacoes\",\"d1\",\"d2\"]\n",
    "qtdAvaliacoes.drop('d1', axis='columns', inplace=True)\n",
    "qtdAvaliacoes.drop('d2', axis='columns', inplace=True)\n",
    "filmes = filmes.set_index(\"idF\").join(qtdAvaliacoes)"
   ]
  },
  {
   "cell_type": "markdown",
   "id": "52536de1",
   "metadata": {},
   "source": [
    "Segunda Heuristica:\n",
    "5 filmes mais bem avaliados filtrando filmes com mais de 60 avaliações.\n",
    "\n",
    "Filmes de nicho iam ser muito bem ranqueados..."
   ]
  },
  {
   "cell_type": "code",
   "execution_count": 183,
   "id": "caa56aab",
   "metadata": {},
   "outputs": [],
   "source": [
    "notaMedia = notas.groupby(\"idF\").mean()\n",
    "notaMedia.columns = [\"d1\",\"notaMedia\"]\n",
    "notaMedia.drop('d1', axis='columns', inplace=True)\n",
    "filmes = filmes.join(notaMedia)"
   ]
  },
  {
   "cell_type": "code",
   "execution_count": 184,
   "id": "10f3d657",
   "metadata": {},
   "outputs": [],
   "source": [
    "filmesComMaisDe60Ava = filmes.query(\"qtdAvaliacoes > 60\").sort_values(\"notaMedia\", ascending=False).head(10)"
   ]
  },
  {
   "cell_type": "code",
   "execution_count": 185,
   "id": "d6cedf88",
   "metadata": {},
   "outputs": [
    {
     "data": {
      "text/html": [
       "<div>\n",
       "<style scoped>\n",
       "    .dataframe tbody tr th:only-of-type {\n",
       "        vertical-align: middle;\n",
       "    }\n",
       "\n",
       "    .dataframe tbody tr th {\n",
       "        vertical-align: top;\n",
       "    }\n",
       "\n",
       "    .dataframe thead th {\n",
       "        text-align: right;\n",
       "    }\n",
       "</style>\n",
       "<table border=\"1\" class=\"dataframe\">\n",
       "  <thead>\n",
       "    <tr style=\"text-align: right;\">\n",
       "      <th></th>\n",
       "      <th>nome</th>\n",
       "      <th>generos</th>\n",
       "      <th>qtdAvaliacoes</th>\n",
       "      <th>notaMedia</th>\n",
       "    </tr>\n",
       "    <tr>\n",
       "      <th>idF</th>\n",
       "      <th></th>\n",
       "      <th></th>\n",
       "      <th></th>\n",
       "      <th></th>\n",
       "    </tr>\n",
       "  </thead>\n",
       "  <tbody>\n",
       "    <tr>\n",
       "      <th>318</th>\n",
       "      <td>Shawshank Redemption, The (1994)</td>\n",
       "      <td>Crime|Drama</td>\n",
       "      <td>63366.0</td>\n",
       "      <td>4.446990</td>\n",
       "    </tr>\n",
       "    <tr>\n",
       "      <th>858</th>\n",
       "      <td>Godfather, The (1972)</td>\n",
       "      <td>Crime|Drama</td>\n",
       "      <td>41355.0</td>\n",
       "      <td>4.364732</td>\n",
       "    </tr>\n",
       "    <tr>\n",
       "      <th>50</th>\n",
       "      <td>Usual Suspects, The (1995)</td>\n",
       "      <td>Crime|Mystery|Thriller</td>\n",
       "      <td>47006.0</td>\n",
       "      <td>4.334372</td>\n",
       "    </tr>\n",
       "    <tr>\n",
       "      <th>527</th>\n",
       "      <td>Schindler's List (1993)</td>\n",
       "      <td>Drama|War</td>\n",
       "      <td>50054.0</td>\n",
       "      <td>4.310175</td>\n",
       "    </tr>\n",
       "    <tr>\n",
       "      <th>1221</th>\n",
       "      <td>Godfather: Part II, The (1974)</td>\n",
       "      <td>Crime|Drama</td>\n",
       "      <td>27398.0</td>\n",
       "      <td>4.275641</td>\n",
       "    </tr>\n",
       "    <tr>\n",
       "      <th>2019</th>\n",
       "      <td>Seven Samurai (Shichinin no samurai) (1954)</td>\n",
       "      <td>Action|Adventure|Drama</td>\n",
       "      <td>11611.0</td>\n",
       "      <td>4.274180</td>\n",
       "    </tr>\n",
       "    <tr>\n",
       "      <th>904</th>\n",
       "      <td>Rear Window (1954)</td>\n",
       "      <td>Mystery|Thriller</td>\n",
       "      <td>17449.0</td>\n",
       "      <td>4.271334</td>\n",
       "    </tr>\n",
       "    <tr>\n",
       "      <th>7502</th>\n",
       "      <td>Band of Brothers (2001)</td>\n",
       "      <td>Action|Drama|War</td>\n",
       "      <td>4305.0</td>\n",
       "      <td>4.263182</td>\n",
       "    </tr>\n",
       "    <tr>\n",
       "      <th>912</th>\n",
       "      <td>Casablanca (1942)</td>\n",
       "      <td>Drama|Romance</td>\n",
       "      <td>24349.0</td>\n",
       "      <td>4.258327</td>\n",
       "    </tr>\n",
       "    <tr>\n",
       "      <th>922</th>\n",
       "      <td>Sunset Blvd. (a.k.a. Sunset Boulevard) (1950)</td>\n",
       "      <td>Drama|Film-Noir|Romance</td>\n",
       "      <td>6525.0</td>\n",
       "      <td>4.256935</td>\n",
       "    </tr>\n",
       "  </tbody>\n",
       "</table>\n",
       "</div>"
      ],
      "text/plain": [
       "                                               nome                  generos  \\\n",
       "idF                                                                            \n",
       "318                Shawshank Redemption, The (1994)              Crime|Drama   \n",
       "858                           Godfather, The (1972)              Crime|Drama   \n",
       "50                       Usual Suspects, The (1995)   Crime|Mystery|Thriller   \n",
       "527                         Schindler's List (1993)                Drama|War   \n",
       "1221                 Godfather: Part II, The (1974)              Crime|Drama   \n",
       "2019    Seven Samurai (Shichinin no samurai) (1954)   Action|Adventure|Drama   \n",
       "904                              Rear Window (1954)         Mystery|Thriller   \n",
       "7502                        Band of Brothers (2001)         Action|Drama|War   \n",
       "912                               Casablanca (1942)            Drama|Romance   \n",
       "922   Sunset Blvd. (a.k.a. Sunset Boulevard) (1950)  Drama|Film-Noir|Romance   \n",
       "\n",
       "      qtdAvaliacoes  notaMedia  \n",
       "idF                             \n",
       "318         63366.0   4.446990  \n",
       "858         41355.0   4.364732  \n",
       "50          47006.0   4.334372  \n",
       "527         50054.0   4.310175  \n",
       "1221        27398.0   4.275641  \n",
       "2019        11611.0   4.274180  \n",
       "904         17449.0   4.271334  \n",
       "7502         4305.0   4.263182  \n",
       "912         24349.0   4.258327  \n",
       "922          6525.0   4.256935  "
      ]
     },
     "execution_count": 185,
     "metadata": {},
     "output_type": "execute_result"
    }
   ],
   "source": [
    "filmesComMaisDe60Ava"
   ]
  },
  {
   "cell_type": "markdown",
   "id": "98466afb",
   "metadata": {},
   "source": [
    "Terceira Heuristica: filmes com o mesmo genero do ultimo que o usuario assistiu, que tenham mais de 60 avaliações."
   ]
  },
  {
   "cell_type": "code",
   "execution_count": 186,
   "id": "30b496f2",
   "metadata": {},
   "outputs": [],
   "source": [
    "#gerar lista aleatória de 10 filmes\n",
    "assistidos = np.random.randint(100, size=10)\n",
    "assistidos = assistidos.tolist()"
   ]
  },
  {
   "cell_type": "code",
   "execution_count": 187,
   "id": "46d9d84d",
   "metadata": {},
   "outputs": [
    {
     "data": {
      "text/html": [
       "<div>\n",
       "<style scoped>\n",
       "    .dataframe tbody tr th:only-of-type {\n",
       "        vertical-align: middle;\n",
       "    }\n",
       "\n",
       "    .dataframe tbody tr th {\n",
       "        vertical-align: top;\n",
       "    }\n",
       "\n",
       "    .dataframe thead th {\n",
       "        text-align: right;\n",
       "    }\n",
       "</style>\n",
       "<table border=\"1\" class=\"dataframe\">\n",
       "  <thead>\n",
       "    <tr style=\"text-align: right;\">\n",
       "      <th></th>\n",
       "      <th>nome</th>\n",
       "      <th>generos</th>\n",
       "      <th>qtdAvaliacoes</th>\n",
       "      <th>notaMedia</th>\n",
       "    </tr>\n",
       "    <tr>\n",
       "      <th>idF</th>\n",
       "      <th></th>\n",
       "      <th></th>\n",
       "      <th></th>\n",
       "      <th></th>\n",
       "    </tr>\n",
       "  </thead>\n",
       "  <tbody>\n",
       "    <tr>\n",
       "      <th>912</th>\n",
       "      <td>Casablanca (1942)</td>\n",
       "      <td>Drama|Romance</td>\n",
       "      <td>24349.0</td>\n",
       "      <td>4.258327</td>\n",
       "    </tr>\n",
       "  </tbody>\n",
       "</table>\n",
       "</div>"
      ],
      "text/plain": [
       "                  nome        generos  qtdAvaliacoes  notaMedia\n",
       "idF                                                            \n",
       "912  Casablanca (1942)  Drama|Romance        24349.0   4.258327"
      ]
     },
     "execution_count": 187,
     "metadata": {},
     "output_type": "execute_result"
    }
   ],
   "source": [
    "filmes[\"generos\"].loc[assistidos[-1]]\n",
    "generoDoUltimoFilmeAssistido = filmes[\"generos\"].loc[assistidos[-1]]\n",
    "filmesComMaisDe60Ava.query(f\"generos == '{generoDoUltimoFilmeAssistido}'\").drop(assistidos, errors=\"ignore\").sort_values(\"notaMedia\", ascending=False).head(10)"
   ]
  },
  {
   "cell_type": "markdown",
   "id": "db2eac2e",
   "metadata": {},
   "source": [
    "Quarta Heuristica: Usuarios que estão próximos."
   ]
  },
  {
   "cell_type": "code",
   "execution_count": 233,
   "id": "fabb81ba",
   "metadata": {},
   "outputs": [],
   "source": [
    "#gerar pessoas aleatórias\n",
    "pessoas = np.random.randint(nUsuarios, size=2)\n",
    "pessoas = pessoas.tolist()\n",
    "filmesP1 = notas.query(f\"idU=={pessoas[0]}\")[[\"idF\",\"nota\"]].set_index(\"idF\")\n",
    "filmesP2 = notas.query(f\"idU=={pessoas[1]}\")[[\"idF\",\"nota\"]].set_index(\"idF\")"
   ]
  },
  {
   "cell_type": "code",
   "execution_count": 268,
   "id": "7c5459f1",
   "metadata": {},
   "outputs": [],
   "source": [
    "def notasDoUsuario(id):\n",
    "    notasa = notas.query(f\"idU=={id}\")[[\"idF\",\"nota\"]].set_index(\"idF\")\n",
    "    return notasa"
   ]
  },
  {
   "cell_type": "code",
   "execution_count": 265,
   "id": "6ed27124",
   "metadata": {},
   "outputs": [],
   "source": [
    "def distancia(concatenado):\n",
    "    notaP1 = np.array(concatenado[\"notaP1\"])\n",
    "    notaP2 = np.array(concatenado[\"notaP2\"])\n",
    "    return np.linalg.norm(p1 - p2)"
   ]
  },
  {
   "cell_type": "code",
   "execution_count": 269,
   "id": "c2efeb71",
   "metadata": {},
   "outputs": [],
   "source": [
    "notas1 = notasDoUsuario(1)\n",
    "\n",
    "\n",
    "\n",
    "\n",
    "# notas2 = notasDoUsuario(2,notas)\n",
    "# concatenado = filmesP1.join(notas2, lsuffix=\"P1\", rsuffix=\"P2\").dropna()\n",
    "# distancia = distancia(concatenado)"
   ]
  }
 ],
 "metadata": {
  "kernelspec": {
   "display_name": "Python 3 (ipykernel)",
   "language": "python",
   "name": "python3"
  },
  "language_info": {
   "codemirror_mode": {
    "name": "ipython",
    "version": 3
   },
   "file_extension": ".py",
   "mimetype": "text/x-python",
   "name": "python",
   "nbconvert_exporter": "python",
   "pygments_lexer": "ipython3",
   "version": "3.9.13"
  }
 },
 "nbformat": 4,
 "nbformat_minor": 5
}

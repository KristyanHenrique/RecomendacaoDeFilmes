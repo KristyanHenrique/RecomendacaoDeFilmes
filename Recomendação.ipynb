{
 "cells": [
  {
   "cell_type": "code",
   "execution_count": 10,
   "id": "4d065551",
   "metadata": {},
   "outputs": [],
   "source": [
    "import pandas as pd\n",
    "import numpy as np\n",
    "import matplotlib "
   ]
  },
  {
   "cell_type": "code",
   "execution_count": 11,
   "id": "ed059c90",
   "metadata": {},
   "outputs": [],
   "source": [
    "global notas\n",
    "filmes = pd.read_csv(\"./dataset/movies.csv\")\n",
    "filmes.columns = [\"idF\",\"nome\",\"generos\"]\n",
    "notas = pd.read_csv(\"./dataset/ratings.csv\")\n",
    "notas.columns = [\"idU\",\"idF\",\"nota\",\"data\"]\n",
    "nUsuarios = notas.groupby(\"idU\").count()\n",
    "nUsuarios = len(nUsuarios)"
   ]
  },
  {
   "cell_type": "markdown",
   "id": "0d821878",
   "metadata": {},
   "source": [
    "Primeira Heuristica:\n",
    "considerando que não conhecemos nada do usuario, simplesmente recomendaria os 5 filmes mais avaliados.\n",
    "\n",
    "Quantidade de Avaliações não necessariamente quer dizer um filme excelente..."
   ]
  },
  {
   "cell_type": "code",
   "execution_count": 12,
   "id": "5e50bdc1",
   "metadata": {},
   "outputs": [],
   "source": [
    "qtdAvaliacoes = notas.groupby(\"idF\").count()\n",
    "qtdAvaliacoes.columns = [\"qtdAvaliacoes\",\"d1\",\"d2\"]\n",
    "qtdAvaliacoes.drop('d1', axis='columns', inplace=True)\n",
    "qtdAvaliacoes.drop('d2', axis='columns', inplace=True)\n",
    "filmes = filmes.set_index(\"idF\").join(qtdAvaliacoes)"
   ]
  },
  {
   "cell_type": "markdown",
   "id": "fef76512",
   "metadata": {},
   "source": [
    "Segunda Heuristica:\n",
    "5 filmes mais bem avaliados filtrando filmes com mais de 60 avaliações.\n",
    "\n",
    "Filmes de nicho iam ser muito bem ranqueados..."
   ]
  },
  {
   "cell_type": "code",
   "execution_count": 15,
   "id": "fc1cadce",
   "metadata": {},
   "outputs": [],
   "source": [
    "notaMedia = notas.groupby(\"idF\").mean()\n",
    "notaMedia.columns = [\"d1\",\"notaMedia\",\"d2\"]\n",
    "notaMedia.drop('d1', axis='columns', inplace=True)\n",
    "notaMedia.drop('d2', axis='columns', inplace=True)\n",
    "filmes = filmes.join(notaMedia)"
   ]
  },
  {
   "cell_type": "code",
   "execution_count": 16,
   "id": "acc9ec63",
   "metadata": {},
   "outputs": [],
   "source": [
    "filmesComMaisDe60Ava = filmes.query(\"qtdAvaliacoes > 60\").sort_values(\"notaMedia\", ascending=False).head(10)"
   ]
  },
  {
   "cell_type": "code",
   "execution_count": 17,
   "id": "b9d7b60b",
   "metadata": {},
   "outputs": [
    {
     "data": {
      "text/html": [
       "<div>\n",
       "<style scoped>\n",
       "    .dataframe tbody tr th:only-of-type {\n",
       "        vertical-align: middle;\n",
       "    }\n",
       "\n",
       "    .dataframe tbody tr th {\n",
       "        vertical-align: top;\n",
       "    }\n",
       "\n",
       "    .dataframe thead th {\n",
       "        text-align: right;\n",
       "    }\n",
       "</style>\n",
       "<table border=\"1\" class=\"dataframe\">\n",
       "  <thead>\n",
       "    <tr style=\"text-align: right;\">\n",
       "      <th></th>\n",
       "      <th>nome</th>\n",
       "      <th>generos</th>\n",
       "      <th>qtdAvaliacoes</th>\n",
       "      <th>notaMedia</th>\n",
       "    </tr>\n",
       "    <tr>\n",
       "      <th>idF</th>\n",
       "      <th></th>\n",
       "      <th></th>\n",
       "      <th></th>\n",
       "      <th></th>\n",
       "    </tr>\n",
       "  </thead>\n",
       "  <tbody>\n",
       "    <tr>\n",
       "      <th>318</th>\n",
       "      <td>Shawshank Redemption, The (1994)</td>\n",
       "      <td>Crime|Drama</td>\n",
       "      <td>317.0</td>\n",
       "      <td>4.429022</td>\n",
       "    </tr>\n",
       "    <tr>\n",
       "      <th>858</th>\n",
       "      <td>Godfather, The (1972)</td>\n",
       "      <td>Crime|Drama</td>\n",
       "      <td>192.0</td>\n",
       "      <td>4.289062</td>\n",
       "    </tr>\n",
       "    <tr>\n",
       "      <th>2959</th>\n",
       "      <td>Fight Club (1999)</td>\n",
       "      <td>Action|Crime|Drama|Thriller</td>\n",
       "      <td>218.0</td>\n",
       "      <td>4.272936</td>\n",
       "    </tr>\n",
       "    <tr>\n",
       "      <th>750</th>\n",
       "      <td>Dr. Strangelove or: How I Learned to Stop Worr...</td>\n",
       "      <td>Comedy|War</td>\n",
       "      <td>97.0</td>\n",
       "      <td>4.268041</td>\n",
       "    </tr>\n",
       "    <tr>\n",
       "      <th>904</th>\n",
       "      <td>Rear Window (1954)</td>\n",
       "      <td>Mystery|Thriller</td>\n",
       "      <td>84.0</td>\n",
       "      <td>4.261905</td>\n",
       "    </tr>\n",
       "    <tr>\n",
       "      <th>1221</th>\n",
       "      <td>Godfather: Part II, The (1974)</td>\n",
       "      <td>Crime|Drama</td>\n",
       "      <td>129.0</td>\n",
       "      <td>4.259690</td>\n",
       "    </tr>\n",
       "    <tr>\n",
       "      <th>48516</th>\n",
       "      <td>Departed, The (2006)</td>\n",
       "      <td>Crime|Drama|Thriller</td>\n",
       "      <td>107.0</td>\n",
       "      <td>4.252336</td>\n",
       "    </tr>\n",
       "    <tr>\n",
       "      <th>1213</th>\n",
       "      <td>Goodfellas (1990)</td>\n",
       "      <td>Crime|Drama</td>\n",
       "      <td>126.0</td>\n",
       "      <td>4.250000</td>\n",
       "    </tr>\n",
       "    <tr>\n",
       "      <th>912</th>\n",
       "      <td>Casablanca (1942)</td>\n",
       "      <td>Drama|Romance</td>\n",
       "      <td>100.0</td>\n",
       "      <td>4.240000</td>\n",
       "    </tr>\n",
       "    <tr>\n",
       "      <th>58559</th>\n",
       "      <td>Dark Knight, The (2008)</td>\n",
       "      <td>Action|Crime|Drama|IMAX</td>\n",
       "      <td>149.0</td>\n",
       "      <td>4.238255</td>\n",
       "    </tr>\n",
       "  </tbody>\n",
       "</table>\n",
       "</div>"
      ],
      "text/plain": [
       "                                                    nome  \\\n",
       "idF                                                        \n",
       "318                     Shawshank Redemption, The (1994)   \n",
       "858                                Godfather, The (1972)   \n",
       "2959                                   Fight Club (1999)   \n",
       "750    Dr. Strangelove or: How I Learned to Stop Worr...   \n",
       "904                                   Rear Window (1954)   \n",
       "1221                      Godfather: Part II, The (1974)   \n",
       "48516                               Departed, The (2006)   \n",
       "1213                                   Goodfellas (1990)   \n",
       "912                                    Casablanca (1942)   \n",
       "58559                            Dark Knight, The (2008)   \n",
       "\n",
       "                           generos  qtdAvaliacoes  notaMedia  \n",
       "idF                                                           \n",
       "318                    Crime|Drama          317.0   4.429022  \n",
       "858                    Crime|Drama          192.0   4.289062  \n",
       "2959   Action|Crime|Drama|Thriller          218.0   4.272936  \n",
       "750                     Comedy|War           97.0   4.268041  \n",
       "904               Mystery|Thriller           84.0   4.261905  \n",
       "1221                   Crime|Drama          129.0   4.259690  \n",
       "48516         Crime|Drama|Thriller          107.0   4.252336  \n",
       "1213                   Crime|Drama          126.0   4.250000  \n",
       "912                  Drama|Romance          100.0   4.240000  \n",
       "58559      Action|Crime|Drama|IMAX          149.0   4.238255  "
      ]
     },
     "execution_count": 17,
     "metadata": {},
     "output_type": "execute_result"
    }
   ],
   "source": [
    "filmesComMaisDe60Ava"
   ]
  },
  {
   "cell_type": "markdown",
   "id": "1e265330",
   "metadata": {},
   "source": [
    "Terceira Heuristica: filmes com o mesmo genero do ultimo que o usuario assistiu, que tenham mais de 60 avaliações."
   ]
  },
  {
   "cell_type": "code",
   "execution_count": 69,
   "id": "0a484bb6",
   "metadata": {},
   "outputs": [],
   "source": [
    "#gerar lista aleatória de 10 filmes\n",
    "assistidos = np.random.randint(100, size=10)\n",
    "assistidos = assistidos.tolist()"
   ]
  },
  {
   "cell_type": "code",
   "execution_count": 70,
   "id": "666c7f0a",
   "metadata": {},
   "outputs": [
    {
     "data": {
      "text/html": [
       "<div>\n",
       "<style scoped>\n",
       "    .dataframe tbody tr th:only-of-type {\n",
       "        vertical-align: middle;\n",
       "    }\n",
       "\n",
       "    .dataframe tbody tr th {\n",
       "        vertical-align: top;\n",
       "    }\n",
       "\n",
       "    .dataframe thead th {\n",
       "        text-align: right;\n",
       "    }\n",
       "</style>\n",
       "<table border=\"1\" class=\"dataframe\">\n",
       "  <thead>\n",
       "    <tr style=\"text-align: right;\">\n",
       "      <th></th>\n",
       "      <th>nome</th>\n",
       "      <th>generos</th>\n",
       "      <th>qtdAvaliacoes</th>\n",
       "      <th>notaMedia</th>\n",
       "    </tr>\n",
       "    <tr>\n",
       "      <th>idF</th>\n",
       "      <th></th>\n",
       "      <th></th>\n",
       "      <th></th>\n",
       "      <th></th>\n",
       "    </tr>\n",
       "  </thead>\n",
       "  <tbody>\n",
       "    <tr>\n",
       "      <th>904</th>\n",
       "      <td>Rear Window (1954)</td>\n",
       "      <td>Mystery|Thriller</td>\n",
       "      <td>84.0</td>\n",
       "      <td>4.261905</td>\n",
       "    </tr>\n",
       "  </tbody>\n",
       "</table>\n",
       "</div>"
      ],
      "text/plain": [
       "                   nome           generos  qtdAvaliacoes  notaMedia\n",
       "idF                                                                \n",
       "904  Rear Window (1954)  Mystery|Thriller           84.0   4.261905"
      ]
     },
     "execution_count": 70,
     "metadata": {},
     "output_type": "execute_result"
    }
   ],
   "source": [
    "filmes[\"generos\"].iloc[assistidos[-1]]\n",
    "generoDoUltimoFilmeAssistido = filmes[\"generos\"].iloc[assistidos[-1]]\n",
    "filmesComMaisDe60Ava.query(f\"generos == '{generoDoUltimoFilmeAssistido}'\").drop(assistidos, errors=\"ignore\").sort_values(\"notaMedia\", ascending=False).head(10)"
   ]
  },
  {
   "cell_type": "markdown",
   "id": "31f04208",
   "metadata": {},
   "source": [
    "Quarta Heuristica: filmes que o usuario mais proximo de você assistiu utilizando o KNN "
   ]
  },
  {
   "cell_type": "code",
   "execution_count": 71,
   "id": "48ebab56",
   "metadata": {},
   "outputs": [],
   "source": [
    "def notasDoUsuario(id):\n",
    "    notasa = notas.query(f\"idU=={id}\")[[\"idF\",\"nota\"]].set_index(\"idF\")\n",
    "    return notasa"
   ]
  },
  {
   "cell_type": "code",
   "execution_count": 72,
   "id": "ae51c610",
   "metadata": {},
   "outputs": [],
   "source": [
    "def distancia(concat):\n",
    "    notaP1 = np.array(concat[\"notaP1\"])\n",
    "    notaP2 = np.array(concat[\"notaP2\"])\n",
    "    retorno = np.linalg.norm(notaP1 - notaP2)\n",
    "    return retorno"
   ]
  },
  {
   "cell_type": "code",
   "execution_count": 73,
   "id": "1683358a",
   "metadata": {},
   "outputs": [],
   "source": [
    "def distanciaDeTodos(usuarioTestado,numeroDeObjetos = nUsuarios, minimo = 5):\n",
    "    notas1 = notasDoUsuario(usuarioTestado)\n",
    "    dist = []\n",
    "    for idU in notas[\"idU\"].unique()[:numeroDeObjetos]:\n",
    "        notas2 = notasDoUsuario(idU)\n",
    "        print(idU)\n",
    "        concatenado = notas1.merge(notas2, left_on=\"idF\", right_on=\"idF\", suffixes=(\"P1\", \"P2\"))\n",
    "        if(len(concatenado) >= minimo):\n",
    "            dist.append([usuarioTestado,idU,distancia(concatenado)])\n",
    "    dist = pd.DataFrame(dist,columns=[\"usuarioTestado\",\"outroPessoa\",\"Distancia\"])\n",
    "    dropar = dist.loc[dist[\"outroPessoa\"] == usuarioTestado].index\n",
    "    dist.drop(dropar, errors=\"ignore\", inplace=True)\n",
    "    dist.sort_values(\"Distancia\", inplace=True)\n",
    "    dist.reset_index(inplace=True)\n",
    "    dist.drop('index', axis='columns', inplace=True)\n",
    "    return dist"
   ]
  },
  {
   "cell_type": "code",
   "execution_count": null,
   "id": "c4b2ad40",
   "metadata": {
    "collapsed": true
   },
   "outputs": [],
   "source": [
    "global dist\n",
    "dist = distanciaDeTodos(1)"
   ]
  },
  {
   "cell_type": "code",
   "execution_count": 75,
   "id": "7b22a3bf",
   "metadata": {},
   "outputs": [],
   "source": [
    "def filmesNaoVistosUsuarioMaisProximo(dist):\n",
    "    notasTestado = notasDoUsuario(dist.iloc[0][\"usuarioTestado\"])\n",
    "    notasUsuarioMaisProximo = notasDoUsuario(dist.iloc[0][\"outroPessoa\"])\n",
    "    filmesNaoVisto = notasUsuarioMaisProximo.drop(notasTestado.index, errors=\"ignore\")\n",
    "    filmesNaoVisto.sort_values(\"nota\", ascending=False, inplace=True)\n",
    "    return filmesNaoVisto"
   ]
  },
  {
   "cell_type": "code",
   "execution_count": 76,
   "id": "9d64b890",
   "metadata": {},
   "outputs": [],
   "source": [
    "filmesNaoVistos = filmesNaoVistosUsuarioMaisProximo(dist)"
   ]
  },
  {
   "cell_type": "code",
   "execution_count": 77,
   "id": "bf844c4b",
   "metadata": {},
   "outputs": [
    {
     "data": {
      "text/html": [
       "<div>\n",
       "<style scoped>\n",
       "    .dataframe tbody tr th:only-of-type {\n",
       "        vertical-align: middle;\n",
       "    }\n",
       "\n",
       "    .dataframe tbody tr th {\n",
       "        vertical-align: top;\n",
       "    }\n",
       "\n",
       "    .dataframe thead th {\n",
       "        text-align: right;\n",
       "    }\n",
       "</style>\n",
       "<table border=\"1\" class=\"dataframe\">\n",
       "  <thead>\n",
       "    <tr style=\"text-align: right;\">\n",
       "      <th></th>\n",
       "      <th>nota</th>\n",
       "    </tr>\n",
       "    <tr>\n",
       "      <th>idF</th>\n",
       "      <th></th>\n",
       "    </tr>\n",
       "  </thead>\n",
       "  <tbody>\n",
       "    <tr>\n",
       "      <th>8636</th>\n",
       "      <td>5.0</td>\n",
       "    </tr>\n",
       "    <tr>\n",
       "      <th>58559</th>\n",
       "      <td>5.0</td>\n",
       "    </tr>\n",
       "    <tr>\n",
       "      <th>33794</th>\n",
       "      <td>5.0</td>\n",
       "    </tr>\n",
       "    <tr>\n",
       "      <th>4993</th>\n",
       "      <td>5.0</td>\n",
       "    </tr>\n",
       "    <tr>\n",
       "      <th>5349</th>\n",
       "      <td>5.0</td>\n",
       "    </tr>\n",
       "  </tbody>\n",
       "</table>\n",
       "</div>"
      ],
      "text/plain": [
       "       nota\n",
       "idF        \n",
       "8636    5.0\n",
       "58559   5.0\n",
       "33794   5.0\n",
       "4993    5.0\n",
       "5349    5.0"
      ]
     },
     "execution_count": 77,
     "metadata": {},
     "output_type": "execute_result"
    }
   ],
   "source": [
    "filmesNaoVistos.head()"
   ]
  },
  {
   "cell_type": "markdown",
   "id": "fa15a6f5",
   "metadata": {},
   "source": [
    "Quinta Heuristica: Sugerindo baseado em varios usuarios com o KNN"
   ]
  },
  {
   "cell_type": "code",
   "execution_count": 78,
   "id": "ca8b895b",
   "metadata": {},
   "outputs": [
    {
     "data": {
      "text/html": [
       "<div>\n",
       "<style scoped>\n",
       "    .dataframe tbody tr th:only-of-type {\n",
       "        vertical-align: middle;\n",
       "    }\n",
       "\n",
       "    .dataframe tbody tr th {\n",
       "        vertical-align: top;\n",
       "    }\n",
       "\n",
       "    .dataframe thead th {\n",
       "        text-align: right;\n",
       "    }\n",
       "</style>\n",
       "<table border=\"1\" class=\"dataframe\">\n",
       "  <thead>\n",
       "    <tr style=\"text-align: right;\">\n",
       "      <th></th>\n",
       "      <th>usuarioTestado</th>\n",
       "      <th>Distancia</th>\n",
       "    </tr>\n",
       "    <tr>\n",
       "      <th>outroPessoa</th>\n",
       "      <th></th>\n",
       "      <th></th>\n",
       "    </tr>\n",
       "  </thead>\n",
       "  <tbody>\n",
       "    <tr>\n",
       "      <th>77</th>\n",
       "      <td>1</td>\n",
       "      <td>0.000000</td>\n",
       "    </tr>\n",
       "    <tr>\n",
       "      <th>511</th>\n",
       "      <td>1</td>\n",
       "      <td>0.500000</td>\n",
       "    </tr>\n",
       "    <tr>\n",
       "      <th>366</th>\n",
       "      <td>1</td>\n",
       "      <td>0.707107</td>\n",
       "    </tr>\n",
       "    <tr>\n",
       "      <th>9</th>\n",
       "      <td>1</td>\n",
       "      <td>1.000000</td>\n",
       "    </tr>\n",
       "    <tr>\n",
       "      <th>49</th>\n",
       "      <td>1</td>\n",
       "      <td>1.000000</td>\n",
       "    </tr>\n",
       "    <tr>\n",
       "      <th>...</th>\n",
       "      <td>...</td>\n",
       "      <td>...</td>\n",
       "    </tr>\n",
       "    <tr>\n",
       "      <th>474</th>\n",
       "      <td>1</td>\n",
       "      <td>18.594354</td>\n",
       "    </tr>\n",
       "    <tr>\n",
       "      <th>160</th>\n",
       "      <td>1</td>\n",
       "      <td>18.794946</td>\n",
       "    </tr>\n",
       "    <tr>\n",
       "      <th>217</th>\n",
       "      <td>1</td>\n",
       "      <td>19.646883</td>\n",
       "    </tr>\n",
       "    <tr>\n",
       "      <th>599</th>\n",
       "      <td>1</td>\n",
       "      <td>19.665960</td>\n",
       "    </tr>\n",
       "    <tr>\n",
       "      <th>68</th>\n",
       "      <td>1</td>\n",
       "      <td>21.558061</td>\n",
       "    </tr>\n",
       "  </tbody>\n",
       "</table>\n",
       "<p>546 rows × 2 columns</p>\n",
       "</div>"
      ],
      "text/plain": [
       "             usuarioTestado  Distancia\n",
       "outroPessoa                           \n",
       "77                        1   0.000000\n",
       "511                       1   0.500000\n",
       "366                       1   0.707107\n",
       "9                         1   1.000000\n",
       "49                        1   1.000000\n",
       "...                     ...        ...\n",
       "474                       1  18.594354\n",
       "160                       1  18.794946\n",
       "217                       1  19.646883\n",
       "599                       1  19.665960\n",
       "68                        1  21.558061\n",
       "\n",
       "[546 rows x 2 columns]"
      ]
     },
     "execution_count": 78,
     "metadata": {},
     "output_type": "execute_result"
    }
   ],
   "source": [
    "#definir quantidade de usuarios\n",
    "#dist.sort_values(\"Distancia\", ascending=True)[:5]\n",
    "dist.sort_values(\"Distancia\", ascending=True).set_index(\"outroPessoa\")"
   ]
  },
  {
   "cell_type": "code",
   "execution_count": 107,
   "id": "acca04a4",
   "metadata": {},
   "outputs": [],
   "source": [
    "def usuariosMaisProximos(idsUsuarios,qtdUsuarios = len(dist)):\n",
    "    usuariosMaisProximos = dist.sort_values(\"Distancia\", ascending=True).set_index(\"outroPessoa\")[:qtdUsuarios]\n",
    "    notasTestado = []\n",
    "    for index,row in usuariosMaisProximos.iterrows():\n",
    "        notas = notasDoUsuario(index)\n",
    "        for index,row in notas.iterrows(): \n",
    "            notasTestado.append(row)\n",
    "    notasTestado = pd.DataFrame(notasTestado, columns = [\"nota\"])\n",
    "    notasTestado.index.name = \"idF\"\n",
    "    return notasTestado"
   ]
  },
  {
   "cell_type": "code",
   "execution_count": 108,
   "id": "e9839bf3",
   "metadata": {},
   "outputs": [],
   "source": [
    "maisProx = usuariosMaisProximos(1,10)"
   ]
  },
  {
   "cell_type": "code",
   "execution_count": 110,
   "id": "bce624a9",
   "metadata": {},
   "outputs": [
    {
     "data": {
      "text/html": [
       "<div>\n",
       "<style scoped>\n",
       "    .dataframe tbody tr th:only-of-type {\n",
       "        vertical-align: middle;\n",
       "    }\n",
       "\n",
       "    .dataframe tbody tr th {\n",
       "        vertical-align: top;\n",
       "    }\n",
       "\n",
       "    .dataframe thead th {\n",
       "        text-align: right;\n",
       "    }\n",
       "</style>\n",
       "<table border=\"1\" class=\"dataframe\">\n",
       "  <thead>\n",
       "    <tr style=\"text-align: right;\">\n",
       "      <th></th>\n",
       "      <th>nota</th>\n",
       "    </tr>\n",
       "    <tr>\n",
       "      <th>idF</th>\n",
       "      <th></th>\n",
       "    </tr>\n",
       "  </thead>\n",
       "  <tbody>\n",
       "    <tr>\n",
       "      <th>2</th>\n",
       "      <td>4.500000</td>\n",
       "    </tr>\n",
       "    <tr>\n",
       "      <th>32</th>\n",
       "      <td>5.000000</td>\n",
       "    </tr>\n",
       "    <tr>\n",
       "      <th>41</th>\n",
       "      <td>3.000000</td>\n",
       "    </tr>\n",
       "    <tr>\n",
       "      <th>110</th>\n",
       "      <td>4.166667</td>\n",
       "    </tr>\n",
       "    <tr>\n",
       "      <th>187</th>\n",
       "      <td>3.000000</td>\n",
       "    </tr>\n",
       "    <tr>\n",
       "      <th>...</th>\n",
       "      <td>...</td>\n",
       "    </tr>\n",
       "    <tr>\n",
       "      <th>139385</th>\n",
       "      <td>4.666667</td>\n",
       "    </tr>\n",
       "    <tr>\n",
       "      <th>150548</th>\n",
       "      <td>5.000000</td>\n",
       "    </tr>\n",
       "    <tr>\n",
       "      <th>152081</th>\n",
       "      <td>4.500000</td>\n",
       "    </tr>\n",
       "    <tr>\n",
       "      <th>164179</th>\n",
       "      <td>4.000000</td>\n",
       "    </tr>\n",
       "    <tr>\n",
       "      <th>168252</th>\n",
       "      <td>4.750000</td>\n",
       "    </tr>\n",
       "  </tbody>\n",
       "</table>\n",
       "<p>272 rows × 1 columns</p>\n",
       "</div>"
      ],
      "text/plain": [
       "            nota\n",
       "idF             \n",
       "2       4.500000\n",
       "32      5.000000\n",
       "41      3.000000\n",
       "110     4.166667\n",
       "187     3.000000\n",
       "...          ...\n",
       "139385  4.666667\n",
       "150548  5.000000\n",
       "152081  4.500000\n",
       "164179  4.000000\n",
       "168252  4.750000\n",
       "\n",
       "[272 rows x 1 columns]"
      ]
     },
     "execution_count": 110,
     "metadata": {},
     "output_type": "execute_result"
    }
   ],
   "source": [
    "maisProx.groupby(maisProx.index).mean().join()"
   ]
  }
 ],
 "metadata": {
  "kernelspec": {
   "display_name": "Python 3 (ipykernel)",
   "language": "python",
   "name": "python3"
  },
  "language_info": {
   "codemirror_mode": {
    "name": "ipython",
    "version": 3
   },
   "file_extension": ".py",
   "mimetype": "text/x-python",
   "name": "python",
   "nbconvert_exporter": "python",
   "pygments_lexer": "ipython3",
   "version": "3.9.13"
  }
 },
 "nbformat": 4,
 "nbformat_minor": 5
}
